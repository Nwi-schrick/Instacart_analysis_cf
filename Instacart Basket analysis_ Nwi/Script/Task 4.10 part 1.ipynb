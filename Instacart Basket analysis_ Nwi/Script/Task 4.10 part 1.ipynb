{
 "cells": [
  {
   "cell_type": "markdown",
   "id": "e2e33320",
   "metadata": {},
   "source": [
    "# 4.10 Coding Etiquette & Excel Reporting"
   ]
  },
  {
   "cell_type": "markdown",
   "id": "fb1f72ae",
   "metadata": {},
   "source": [
    "### 1. Import the data set you exported in Exercise 4.9 into a new Jupyter notebook. "
   ]
  },
  {
   "cell_type": "code",
   "execution_count": 1,
   "id": "ef420fc1",
   "metadata": {},
   "outputs": [],
   "source": [
    "# Import Libraries\n",
    "import pandas as pd\n",
    "import numpy as np\n",
    "import os\n",
    "import matplotlib.pyplot as plt\n",
    "import seaborn as sns\n",
    "import scipy"
   ]
  },
  {
   "cell_type": "code",
   "execution_count": 2,
   "id": "cd1420a8",
   "metadata": {},
   "outputs": [],
   "source": [
    "# Create path\n",
    "path = r'C:\\Users\\Jeet\\Desktop\\Instacart Basket analysis2'"
   ]
  },
  {
   "cell_type": "code",
   "execution_count": 3,
   "id": "d11a0956",
   "metadata": {},
   "outputs": [],
   "source": [
    "# Import ords_prods_cust Dataset\n",
    "\n",
    "final_df = pd.read_pickle(os.path.join(path, 'Prepared data', 'ords_prods_custss.pkl'))"
   ]
  },
  {
   "cell_type": "markdown",
   "id": "29150d84",
   "metadata": {},
   "source": [
    "### 2. Consider any security implications that might exist for this new data. You’ll need to address any PII data in the data before continuing your analysis."
   ]
  },
  {
   "cell_type": "code",
   "execution_count": 4,
   "id": "e4915a1f",
   "metadata": {},
   "outputs": [
    {
     "data": {
      "text/plain": [
       "(32406041, 34)"
      ]
     },
     "execution_count": 4,
     "metadata": {},
     "output_type": "execute_result"
    }
   ],
   "source": [
    "# Check shape of data frame\n",
    "final_df.shape"
   ]
  },
  {
   "cell_type": "code",
   "execution_count": 5,
   "id": "dd167971",
   "metadata": {},
   "outputs": [
    {
     "data": {
      "text/plain": [
       "order_id                     int32\n",
       "user_id                     object\n",
       "order_number                  int8\n",
       "orders_day_of_week            int8\n",
       "order_hour_of_day             int8\n",
       "days_since_prior_order     float16\n",
       "new_customer                  bool\n",
       "product_id                    int8\n",
       "add_to_cart_order          float16\n",
       "reordered                     int8\n",
       "product_name                object\n",
       "aisle_id                      int8\n",
       "department_id                 int8\n",
       "prices                     float16\n",
       "_merge                    category\n",
       "price_range_loc             object\n",
       "busiest_day                 object\n",
       "busiest_days                object\n",
       "busiest_hours               object\n",
       "max_order                     int8\n",
       "loyalty_flag                object\n",
       "average_price_spent        float16\n",
       "spending_flag               object\n",
       "frequent_customers         float16\n",
       "frequency_flag              object\n",
       "First Name                  object\n",
       "Last Name                   object\n",
       "Gender                      object\n",
       "State                       object\n",
       "Age                           int8\n",
       "date_joined                 object\n",
       "n_dependants                  int8\n",
       "Marital Status              object\n",
       "income                       int32\n",
       "dtype: object"
      ]
     },
     "execution_count": 5,
     "metadata": {},
     "output_type": "execute_result"
    }
   ],
   "source": [
    "# Check data types\n",
    "\n",
    "final_df.dtypes"
   ]
  },
  {
   "cell_type": "code",
   "execution_count": 6,
   "id": "0aacfc3d",
   "metadata": {},
   "outputs": [],
   "source": [
    "# Delete any duplicate or unnecessary columns\n",
    "\n",
    "df = final_df.drop(columns = ['_merge'])"
   ]
  },
  {
   "cell_type": "code",
   "execution_count": 7,
   "id": "cd26e4e2",
   "metadata": {},
   "outputs": [],
   "source": [
    "df = df.drop(columns = ['new_customer'])"
   ]
  },
  {
   "cell_type": "code",
   "execution_count": 8,
   "id": "d9e54fcb",
   "metadata": {},
   "outputs": [],
   "source": [
    "df = df.drop(columns = ['busiest_day'])"
   ]
  },
  {
   "cell_type": "markdown",
   "id": "2a5489f2",
   "metadata": {},
   "source": [
    "According to the security concern, the data set have the First Name and Last Name. I Will prefer to remove the name which i didnot required for analysis and for the identification, the user_id is enough."
   ]
  },
  {
   "cell_type": "code",
   "execution_count": 9,
   "id": "ef4751d4",
   "metadata": {},
   "outputs": [],
   "source": [
    "# Removing First and Last Name due to security reason\n",
    "df = df.drop(columns = ['First Name', 'Last Name'])"
   ]
  },
  {
   "cell_type": "code",
   "execution_count": 11,
   "id": "84f84427",
   "metadata": {},
   "outputs": [
    {
     "data": {
      "text/html": [
       "<div>\n",
       "<style scoped>\n",
       "    .dataframe tbody tr th:only-of-type {\n",
       "        vertical-align: middle;\n",
       "    }\n",
       "\n",
       "    .dataframe tbody tr th {\n",
       "        vertical-align: top;\n",
       "    }\n",
       "\n",
       "    .dataframe thead th {\n",
       "        text-align: right;\n",
       "    }\n",
       "</style>\n",
       "<table border=\"1\" class=\"dataframe\">\n",
       "  <thead>\n",
       "    <tr style=\"text-align: right;\">\n",
       "      <th></th>\n",
       "      <th>order_id</th>\n",
       "      <th>user_id</th>\n",
       "      <th>order_number</th>\n",
       "      <th>orders_day_of_week</th>\n",
       "      <th>order_hour_of_day</th>\n",
       "      <th>days_since_prior_order</th>\n",
       "      <th>product_id</th>\n",
       "      <th>add_to_cart_order</th>\n",
       "      <th>reordered</th>\n",
       "      <th>product_name</th>\n",
       "      <th>...</th>\n",
       "      <th>spending_flag</th>\n",
       "      <th>frequent_customers</th>\n",
       "      <th>frequency_flag</th>\n",
       "      <th>Gender</th>\n",
       "      <th>State</th>\n",
       "      <th>Age</th>\n",
       "      <th>date_joined</th>\n",
       "      <th>n_dependants</th>\n",
       "      <th>Marital Status</th>\n",
       "      <th>income</th>\n",
       "    </tr>\n",
       "  </thead>\n",
       "  <tbody>\n",
       "    <tr>\n",
       "      <th>0</th>\n",
       "      <td>2539329</td>\n",
       "      <td>1</td>\n",
       "      <td>1</td>\n",
       "      <td>2</td>\n",
       "      <td>8</td>\n",
       "      <td>NaN</td>\n",
       "      <td>-60</td>\n",
       "      <td>1.0</td>\n",
       "      <td>0</td>\n",
       "      <td>Soda</td>\n",
       "      <td>...</td>\n",
       "      <td>Low spender</td>\n",
       "      <td>20.5</td>\n",
       "      <td>Non-frequent customer</td>\n",
       "      <td>Female</td>\n",
       "      <td>Alabama</td>\n",
       "      <td>31</td>\n",
       "      <td>2/17/2019</td>\n",
       "      <td>3</td>\n",
       "      <td>married</td>\n",
       "      <td>40423</td>\n",
       "    </tr>\n",
       "    <tr>\n",
       "      <th>1</th>\n",
       "      <td>2398795</td>\n",
       "      <td>1</td>\n",
       "      <td>2</td>\n",
       "      <td>3</td>\n",
       "      <td>7</td>\n",
       "      <td>15.0</td>\n",
       "      <td>-60</td>\n",
       "      <td>1.0</td>\n",
       "      <td>1</td>\n",
       "      <td>Soda</td>\n",
       "      <td>...</td>\n",
       "      <td>Low spender</td>\n",
       "      <td>20.5</td>\n",
       "      <td>Non-frequent customer</td>\n",
       "      <td>Female</td>\n",
       "      <td>Alabama</td>\n",
       "      <td>31</td>\n",
       "      <td>2/17/2019</td>\n",
       "      <td>3</td>\n",
       "      <td>married</td>\n",
       "      <td>40423</td>\n",
       "    </tr>\n",
       "    <tr>\n",
       "      <th>2</th>\n",
       "      <td>473747</td>\n",
       "      <td>1</td>\n",
       "      <td>3</td>\n",
       "      <td>3</td>\n",
       "      <td>12</td>\n",
       "      <td>21.0</td>\n",
       "      <td>-60</td>\n",
       "      <td>1.0</td>\n",
       "      <td>1</td>\n",
       "      <td>Soda</td>\n",
       "      <td>...</td>\n",
       "      <td>Low spender</td>\n",
       "      <td>20.5</td>\n",
       "      <td>Non-frequent customer</td>\n",
       "      <td>Female</td>\n",
       "      <td>Alabama</td>\n",
       "      <td>31</td>\n",
       "      <td>2/17/2019</td>\n",
       "      <td>3</td>\n",
       "      <td>married</td>\n",
       "      <td>40423</td>\n",
       "    </tr>\n",
       "    <tr>\n",
       "      <th>3</th>\n",
       "      <td>2254736</td>\n",
       "      <td>1</td>\n",
       "      <td>4</td>\n",
       "      <td>4</td>\n",
       "      <td>7</td>\n",
       "      <td>29.0</td>\n",
       "      <td>-60</td>\n",
       "      <td>1.0</td>\n",
       "      <td>1</td>\n",
       "      <td>Soda</td>\n",
       "      <td>...</td>\n",
       "      <td>Low spender</td>\n",
       "      <td>20.5</td>\n",
       "      <td>Non-frequent customer</td>\n",
       "      <td>Female</td>\n",
       "      <td>Alabama</td>\n",
       "      <td>31</td>\n",
       "      <td>2/17/2019</td>\n",
       "      <td>3</td>\n",
       "      <td>married</td>\n",
       "      <td>40423</td>\n",
       "    </tr>\n",
       "    <tr>\n",
       "      <th>4</th>\n",
       "      <td>431534</td>\n",
       "      <td>1</td>\n",
       "      <td>5</td>\n",
       "      <td>4</td>\n",
       "      <td>15</td>\n",
       "      <td>28.0</td>\n",
       "      <td>-60</td>\n",
       "      <td>1.0</td>\n",
       "      <td>1</td>\n",
       "      <td>Soda</td>\n",
       "      <td>...</td>\n",
       "      <td>Low spender</td>\n",
       "      <td>20.5</td>\n",
       "      <td>Non-frequent customer</td>\n",
       "      <td>Female</td>\n",
       "      <td>Alabama</td>\n",
       "      <td>31</td>\n",
       "      <td>2/17/2019</td>\n",
       "      <td>3</td>\n",
       "      <td>married</td>\n",
       "      <td>40423</td>\n",
       "    </tr>\n",
       "  </tbody>\n",
       "</table>\n",
       "<p>5 rows × 29 columns</p>\n",
       "</div>"
      ],
      "text/plain": [
       "   order_id user_id  order_number  orders_day_of_week  order_hour_of_day  \\\n",
       "0   2539329       1             1                   2                  8   \n",
       "1   2398795       1             2                   3                  7   \n",
       "2    473747       1             3                   3                 12   \n",
       "3   2254736       1             4                   4                  7   \n",
       "4    431534       1             5                   4                 15   \n",
       "\n",
       "   days_since_prior_order  product_id  add_to_cart_order  reordered  \\\n",
       "0                     NaN         -60                1.0          0   \n",
       "1                    15.0         -60                1.0          1   \n",
       "2                    21.0         -60                1.0          1   \n",
       "3                    29.0         -60                1.0          1   \n",
       "4                    28.0         -60                1.0          1   \n",
       "\n",
       "  product_name  ...  spending_flag  frequent_customers         frequency_flag  \\\n",
       "0         Soda  ...    Low spender                20.5  Non-frequent customer   \n",
       "1         Soda  ...    Low spender                20.5  Non-frequent customer   \n",
       "2         Soda  ...    Low spender                20.5  Non-frequent customer   \n",
       "3         Soda  ...    Low spender                20.5  Non-frequent customer   \n",
       "4         Soda  ...    Low spender                20.5  Non-frequent customer   \n",
       "\n",
       "   Gender    State Age  date_joined n_dependants  Marital Status income  \n",
       "0  Female  Alabama  31    2/17/2019            3         married  40423  \n",
       "1  Female  Alabama  31    2/17/2019            3         married  40423  \n",
       "2  Female  Alabama  31    2/17/2019            3         married  40423  \n",
       "3  Female  Alabama  31    2/17/2019            3         married  40423  \n",
       "4  Female  Alabama  31    2/17/2019            3         married  40423  \n",
       "\n",
       "[5 rows x 29 columns]"
      ]
     },
     "execution_count": 11,
     "metadata": {},
     "output_type": "execute_result"
    }
   ],
   "source": [
    "# Confirming the changes\n",
    "df.head()"
   ]
  },
  {
   "cell_type": "markdown",
   "id": "434598e5",
   "metadata": {},
   "source": [
    "### 3.The Instacart officers are interested in comparing customer behavior in different geographic areas. Create a regional segmentation of the data. You’ll need to create a “Region” column based on the “State” column from your customers data set."
   ]
  },
  {
   "cell_type": "code",
   "execution_count": 12,
   "id": "1e2df12c",
   "metadata": {},
   "outputs": [
    {
     "data": {
      "text/plain": [
       "(32406041, 29)"
      ]
     },
     "execution_count": 12,
     "metadata": {},
     "output_type": "execute_result"
    }
   ],
   "source": [
    "# Check dataframe dimension\n",
    "df.shape"
   ]
  },
  {
   "cell_type": "code",
   "execution_count": 13,
   "id": "6c7ae2b3",
   "metadata": {},
   "outputs": [
    {
     "data": {
      "text/plain": [
       "Pennsylvania            667094\n",
       "California              659828\n",
       "Rhode Island            656935\n",
       "Georgia                 656414\n",
       "New Mexico              654499\n",
       "Arizona                 654005\n",
       "North Carolina          651928\n",
       "Oklahoma                651760\n",
       "Alaska                  648519\n",
       "Minnesota               647851\n",
       "Massachusetts           646378\n",
       "Wyoming                 644283\n",
       "Virginia                641432\n",
       "Missouri                640761\n",
       "Texas                   640432\n",
       "Colorado                639293\n",
       "Maine                   638593\n",
       "North Dakota            638507\n",
       "Alabama                 638041\n",
       "Kansas                  637570\n",
       "Louisiana               637506\n",
       "Delaware                637049\n",
       "South Carolina          636768\n",
       "Oregon                  636442\n",
       "Nevada                  636163\n",
       "Arkansas                636158\n",
       "New York                636003\n",
       "Montana                 635280\n",
       "South Dakota            633786\n",
       "Illinois                633059\n",
       "Hawaii                  632922\n",
       "Washington              632877\n",
       "Mississippi             632697\n",
       "Kentucky                632509\n",
       "Michigan                630956\n",
       "Florida                 629039\n",
       "Ohio                    628339\n",
       "Wisconsin               628137\n",
       "New Jersey              627707\n",
       "Indiana                 627290\n",
       "Maryland                626603\n",
       "Nebraska                625828\n",
       "Iowa                    625501\n",
       "Connecticut             623055\n",
       "Tennessee               617906\n",
       "New Hampshire           615424\n",
       "District of Columbia    613714\n",
       "West Virginia           612344\n",
       "Utah                    611965\n",
       "Vermont                 611750\n",
       "Idaho                   607141\n",
       "Name: State, dtype: int64"
      ]
     },
     "execution_count": 13,
     "metadata": {},
     "output_type": "execute_result"
    }
   ],
   "source": [
    "# Check the frequency of state column\n",
    "df['State'].value_counts(dropna = False)"
   ]
  },
  {
   "cell_type": "code",
   "execution_count": 14,
   "id": "c5c5a1cd",
   "metadata": {
    "scrolled": true
   },
   "outputs": [],
   "source": [
    "# Defining Regions acc to states location\n",
    "regionNE = ['Connecticut', 'Maine', 'Massachusetts', 'New Hampshire', 'New Jersey', 'New York', 'Pennsylvania', 'Rhode Island', 'Vermont']"
   ]
  },
  {
   "cell_type": "code",
   "execution_count": 15,
   "id": "87b90c33",
   "metadata": {},
   "outputs": [],
   "source": [
    "regionSE = ['Alabama', 'Arkansas', 'Delaware', 'Florida', 'Georgia', 'Kentucky', 'Louisiana', 'Maryland', 'Mississippi', 'North Carolina', 'South Carolina', 'Tennessee', 'Virginia', 'West Virginia', 'District of Columbia'] "
   ]
  },
  {
   "cell_type": "code",
   "execution_count": 16,
   "id": "c36bb589",
   "metadata": {},
   "outputs": [],
   "source": [
    "regionMW = ['Illinois', 'Indiana', 'Iowa', 'Kansas', 'Michigan', 'Minnesota', 'Missouri', 'Ohio', 'North Dakota', 'Nebraska', 'South Dakota', 'Wisconsin']"
   ]
  },
  {
   "cell_type": "code",
   "execution_count": 17,
   "id": "400ae965",
   "metadata": {},
   "outputs": [],
   "source": [
    "regionSW = ['Arizona', 'New Mexico', 'Oklahoma', 'Texas']"
   ]
  },
  {
   "cell_type": "code",
   "execution_count": 18,
   "id": "a64e9292",
   "metadata": {},
   "outputs": [],
   "source": [
    "regionW = ['Alaska', 'California', 'Colorado', 'Hawaii', 'Idaho', 'Nevada', 'Montana', 'Oregon', 'Utah', 'Washington', 'Wyoming']"
   ]
  },
  {
   "cell_type": "code",
   "execution_count": 19,
   "id": "7197f69e",
   "metadata": {},
   "outputs": [],
   "source": [
    "# Create if-state with the loc function\n",
    "\n",
    "df.loc[df['State'].isin (regionNE), 'region'] = 'Northeast'"
   ]
  },
  {
   "cell_type": "code",
   "execution_count": 20,
   "id": "52c5dc50",
   "metadata": {},
   "outputs": [],
   "source": [
    "df.loc[df['State'].isin (regionSE), 'region'] = 'Southeast'"
   ]
  },
  {
   "cell_type": "code",
   "execution_count": 21,
   "id": "bb0b1f92",
   "metadata": {},
   "outputs": [],
   "source": [
    "df.loc[df['State'].isin (regionMW), 'region'] = 'Midwest'"
   ]
  },
  {
   "cell_type": "code",
   "execution_count": 22,
   "id": "16e422f9",
   "metadata": {},
   "outputs": [],
   "source": [
    "df.loc[df['State'].isin (regionSW), 'region'] = 'Southwest'"
   ]
  },
  {
   "cell_type": "code",
   "execution_count": 23,
   "id": "e75577e6",
   "metadata": {},
   "outputs": [],
   "source": [
    "df.loc[df['State'].isin (regionW), 'region'] = 'West'"
   ]
  },
  {
   "cell_type": "code",
   "execution_count": 24,
   "id": "52965ae7",
   "metadata": {},
   "outputs": [
    {
     "data": {
      "text/plain": [
       "Southeast    9500108\n",
       "Midwest      7597585\n",
       "West         6984713\n",
       "Northeast    5722939\n",
       "Southwest    2600696\n",
       "Name: region, dtype: int64"
      ]
     },
     "execution_count": 24,
     "metadata": {},
     "output_type": "execute_result"
    }
   ],
   "source": [
    "# Check frequency of the Region\n",
    "df['region'].value_counts(dropna = False)"
   ]
  },
  {
   "cell_type": "code",
   "execution_count": 25,
   "id": "3257bf1a",
   "metadata": {},
   "outputs": [
    {
     "data": {
      "text/html": [
       "<div>\n",
       "<style scoped>\n",
       "    .dataframe tbody tr th:only-of-type {\n",
       "        vertical-align: middle;\n",
       "    }\n",
       "\n",
       "    .dataframe tbody tr th {\n",
       "        vertical-align: top;\n",
       "    }\n",
       "\n",
       "    .dataframe thead th {\n",
       "        text-align: right;\n",
       "    }\n",
       "</style>\n",
       "<table border=\"1\" class=\"dataframe\">\n",
       "  <thead>\n",
       "    <tr style=\"text-align: right;\">\n",
       "      <th></th>\n",
       "      <th>order_id</th>\n",
       "      <th>user_id</th>\n",
       "      <th>order_number</th>\n",
       "      <th>orders_day_of_week</th>\n",
       "      <th>order_hour_of_day</th>\n",
       "      <th>days_since_prior_order</th>\n",
       "      <th>product_id</th>\n",
       "      <th>add_to_cart_order</th>\n",
       "      <th>reordered</th>\n",
       "      <th>product_name</th>\n",
       "      <th>...</th>\n",
       "      <th>frequent_customers</th>\n",
       "      <th>frequency_flag</th>\n",
       "      <th>Gender</th>\n",
       "      <th>State</th>\n",
       "      <th>Age</th>\n",
       "      <th>date_joined</th>\n",
       "      <th>n_dependants</th>\n",
       "      <th>Marital Status</th>\n",
       "      <th>income</th>\n",
       "      <th>region</th>\n",
       "    </tr>\n",
       "  </thead>\n",
       "  <tbody>\n",
       "    <tr>\n",
       "      <th>0</th>\n",
       "      <td>2539329</td>\n",
       "      <td>1</td>\n",
       "      <td>1</td>\n",
       "      <td>2</td>\n",
       "      <td>8</td>\n",
       "      <td>NaN</td>\n",
       "      <td>-60</td>\n",
       "      <td>1.0</td>\n",
       "      <td>0</td>\n",
       "      <td>Soda</td>\n",
       "      <td>...</td>\n",
       "      <td>20.5</td>\n",
       "      <td>Non-frequent customer</td>\n",
       "      <td>Female</td>\n",
       "      <td>Alabama</td>\n",
       "      <td>31</td>\n",
       "      <td>2/17/2019</td>\n",
       "      <td>3</td>\n",
       "      <td>married</td>\n",
       "      <td>40423</td>\n",
       "      <td>Southeast</td>\n",
       "    </tr>\n",
       "    <tr>\n",
       "      <th>1</th>\n",
       "      <td>2398795</td>\n",
       "      <td>1</td>\n",
       "      <td>2</td>\n",
       "      <td>3</td>\n",
       "      <td>7</td>\n",
       "      <td>15.0</td>\n",
       "      <td>-60</td>\n",
       "      <td>1.0</td>\n",
       "      <td>1</td>\n",
       "      <td>Soda</td>\n",
       "      <td>...</td>\n",
       "      <td>20.5</td>\n",
       "      <td>Non-frequent customer</td>\n",
       "      <td>Female</td>\n",
       "      <td>Alabama</td>\n",
       "      <td>31</td>\n",
       "      <td>2/17/2019</td>\n",
       "      <td>3</td>\n",
       "      <td>married</td>\n",
       "      <td>40423</td>\n",
       "      <td>Southeast</td>\n",
       "    </tr>\n",
       "    <tr>\n",
       "      <th>2</th>\n",
       "      <td>473747</td>\n",
       "      <td>1</td>\n",
       "      <td>3</td>\n",
       "      <td>3</td>\n",
       "      <td>12</td>\n",
       "      <td>21.0</td>\n",
       "      <td>-60</td>\n",
       "      <td>1.0</td>\n",
       "      <td>1</td>\n",
       "      <td>Soda</td>\n",
       "      <td>...</td>\n",
       "      <td>20.5</td>\n",
       "      <td>Non-frequent customer</td>\n",
       "      <td>Female</td>\n",
       "      <td>Alabama</td>\n",
       "      <td>31</td>\n",
       "      <td>2/17/2019</td>\n",
       "      <td>3</td>\n",
       "      <td>married</td>\n",
       "      <td>40423</td>\n",
       "      <td>Southeast</td>\n",
       "    </tr>\n",
       "    <tr>\n",
       "      <th>3</th>\n",
       "      <td>2254736</td>\n",
       "      <td>1</td>\n",
       "      <td>4</td>\n",
       "      <td>4</td>\n",
       "      <td>7</td>\n",
       "      <td>29.0</td>\n",
       "      <td>-60</td>\n",
       "      <td>1.0</td>\n",
       "      <td>1</td>\n",
       "      <td>Soda</td>\n",
       "      <td>...</td>\n",
       "      <td>20.5</td>\n",
       "      <td>Non-frequent customer</td>\n",
       "      <td>Female</td>\n",
       "      <td>Alabama</td>\n",
       "      <td>31</td>\n",
       "      <td>2/17/2019</td>\n",
       "      <td>3</td>\n",
       "      <td>married</td>\n",
       "      <td>40423</td>\n",
       "      <td>Southeast</td>\n",
       "    </tr>\n",
       "    <tr>\n",
       "      <th>4</th>\n",
       "      <td>431534</td>\n",
       "      <td>1</td>\n",
       "      <td>5</td>\n",
       "      <td>4</td>\n",
       "      <td>15</td>\n",
       "      <td>28.0</td>\n",
       "      <td>-60</td>\n",
       "      <td>1.0</td>\n",
       "      <td>1</td>\n",
       "      <td>Soda</td>\n",
       "      <td>...</td>\n",
       "      <td>20.5</td>\n",
       "      <td>Non-frequent customer</td>\n",
       "      <td>Female</td>\n",
       "      <td>Alabama</td>\n",
       "      <td>31</td>\n",
       "      <td>2/17/2019</td>\n",
       "      <td>3</td>\n",
       "      <td>married</td>\n",
       "      <td>40423</td>\n",
       "      <td>Southeast</td>\n",
       "    </tr>\n",
       "  </tbody>\n",
       "</table>\n",
       "<p>5 rows × 30 columns</p>\n",
       "</div>"
      ],
      "text/plain": [
       "   order_id user_id  order_number  orders_day_of_week  order_hour_of_day  \\\n",
       "0   2539329       1             1                   2                  8   \n",
       "1   2398795       1             2                   3                  7   \n",
       "2    473747       1             3                   3                 12   \n",
       "3   2254736       1             4                   4                  7   \n",
       "4    431534       1             5                   4                 15   \n",
       "\n",
       "   days_since_prior_order  product_id  add_to_cart_order  reordered  \\\n",
       "0                     NaN         -60                1.0          0   \n",
       "1                    15.0         -60                1.0          1   \n",
       "2                    21.0         -60                1.0          1   \n",
       "3                    29.0         -60                1.0          1   \n",
       "4                    28.0         -60                1.0          1   \n",
       "\n",
       "  product_name  ...  frequent_customers         frequency_flag  Gender  \\\n",
       "0         Soda  ...                20.5  Non-frequent customer  Female   \n",
       "1         Soda  ...                20.5  Non-frequent customer  Female   \n",
       "2         Soda  ...                20.5  Non-frequent customer  Female   \n",
       "3         Soda  ...                20.5  Non-frequent customer  Female   \n",
       "4         Soda  ...                20.5  Non-frequent customer  Female   \n",
       "\n",
       "     State Age date_joined  n_dependants Marital Status  income     region  \n",
       "0  Alabama  31   2/17/2019             3        married   40423  Southeast  \n",
       "1  Alabama  31   2/17/2019             3        married   40423  Southeast  \n",
       "2  Alabama  31   2/17/2019             3        married   40423  Southeast  \n",
       "3  Alabama  31   2/17/2019             3        married   40423  Southeast  \n",
       "4  Alabama  31   2/17/2019             3        married   40423  Southeast  \n",
       "\n",
       "[5 rows x 30 columns]"
      ]
     },
     "execution_count": 25,
     "metadata": {},
     "output_type": "execute_result"
    }
   ],
   "source": [
    "# Check region in Datasets\n",
    "df.head()"
   ]
  },
  {
   "cell_type": "code",
   "execution_count": 26,
   "id": "df185e3e",
   "metadata": {},
   "outputs": [],
   "source": [
    "#Determine whether there's a difference in spending habits between the different U.S regions\n",
    "crosstab = pd.crosstab(df['region'], df['spending_flag'], dropna = False)"
   ]
  },
  {
   "cell_type": "code",
   "execution_count": 27,
   "id": "10ef023b",
   "metadata": {},
   "outputs": [
    {
     "data": {
      "text/html": [
       "<div>\n",
       "<style scoped>\n",
       "    .dataframe tbody tr th:only-of-type {\n",
       "        vertical-align: middle;\n",
       "    }\n",
       "\n",
       "    .dataframe tbody tr th {\n",
       "        vertical-align: top;\n",
       "    }\n",
       "\n",
       "    .dataframe thead th {\n",
       "        text-align: right;\n",
       "    }\n",
       "</style>\n",
       "<table border=\"1\" class=\"dataframe\">\n",
       "  <thead>\n",
       "    <tr style=\"text-align: right;\">\n",
       "      <th>spending_flag</th>\n",
       "      <th>High spender</th>\n",
       "      <th>Low spender</th>\n",
       "    </tr>\n",
       "    <tr>\n",
       "      <th>region</th>\n",
       "      <th></th>\n",
       "      <th></th>\n",
       "    </tr>\n",
       "  </thead>\n",
       "  <tbody>\n",
       "    <tr>\n",
       "      <th>Midwest</th>\n",
       "      <td>155979</td>\n",
       "      <td>7441606</td>\n",
       "    </tr>\n",
       "    <tr>\n",
       "      <th>Northeast</th>\n",
       "      <td>108226</td>\n",
       "      <td>5614713</td>\n",
       "    </tr>\n",
       "    <tr>\n",
       "      <th>Southeast</th>\n",
       "      <td>184817</td>\n",
       "      <td>9315291</td>\n",
       "    </tr>\n",
       "    <tr>\n",
       "      <th>Southwest</th>\n",
       "      <td>50751</td>\n",
       "      <td>2549945</td>\n",
       "    </tr>\n",
       "    <tr>\n",
       "      <th>West</th>\n",
       "      <td>134479</td>\n",
       "      <td>6850234</td>\n",
       "    </tr>\n",
       "  </tbody>\n",
       "</table>\n",
       "</div>"
      ],
      "text/plain": [
       "spending_flag  High spender  Low spender\n",
       "region                                  \n",
       "Midwest              155979      7441606\n",
       "Northeast            108226      5614713\n",
       "Southeast            184817      9315291\n",
       "Southwest             50751      2549945\n",
       "West                 134479      6850234"
      ]
     },
     "execution_count": 27,
     "metadata": {},
     "output_type": "execute_result"
    }
   ],
   "source": [
    "crosstab"
   ]
  },
  {
   "cell_type": "markdown",
   "id": "da00f040",
   "metadata": {},
   "source": [
    "The Resultis showing that there is a difference in the spending habits among the different U.S regions. There are more low-spenders in all the different regions. The data also show that the high spenders are located in the West regions -Southwest, Midwest and West."
   ]
  },
  {
   "cell_type": "markdown",
   "id": "4d23c524",
   "metadata": {},
   "source": [
    "### 4. The Instacart CFO isn’t interested in customers who don’t generate much revenue for the app. Create an exclusion flag for low-activity customers (customers with less than 5 orders) and exclude them from the data. Make sure you export this sample"
   ]
  },
  {
   "cell_type": "markdown",
   "id": "1e7c2e50",
   "metadata": {},
   "source": [
    "Reviewed and will use 'max_order' column to create exclusion flag"
   ]
  },
  {
   "cell_type": "code",
   "execution_count": 28,
   "id": "36c0a145",
   "metadata": {},
   "outputs": [],
   "source": [
    "#Creating the exclusion flag\n",
    "df.loc[df['max_order'] < 5, 'exclusion flag'] = 'low-activity'\n",
    "df.loc[df['max_order'] >= 5, 'exclusion flag'] = 'high-activity'"
   ]
  },
  {
   "cell_type": "code",
   "execution_count": 29,
   "id": "dfb6d0eb",
   "metadata": {},
   "outputs": [
    {
     "data": {
      "text/plain": [
       "high-activity    30965686\n",
       "low-activity      1440355\n",
       "Name: exclusion flag, dtype: int64"
      ]
     },
     "execution_count": 29,
     "metadata": {},
     "output_type": "execute_result"
    }
   ],
   "source": [
    "df['exclusion flag'].value_counts(dropna = False)"
   ]
  },
  {
   "cell_type": "code",
   "execution_count": 30,
   "id": "09c9e42a",
   "metadata": {},
   "outputs": [
    {
     "data": {
      "text/html": [
       "<div>\n",
       "<style scoped>\n",
       "    .dataframe tbody tr th:only-of-type {\n",
       "        vertical-align: middle;\n",
       "    }\n",
       "\n",
       "    .dataframe tbody tr th {\n",
       "        vertical-align: top;\n",
       "    }\n",
       "\n",
       "    .dataframe thead th {\n",
       "        text-align: right;\n",
       "    }\n",
       "</style>\n",
       "<table border=\"1\" class=\"dataframe\">\n",
       "  <thead>\n",
       "    <tr style=\"text-align: right;\">\n",
       "      <th></th>\n",
       "      <th>order_id</th>\n",
       "      <th>user_id</th>\n",
       "      <th>order_number</th>\n",
       "      <th>orders_day_of_week</th>\n",
       "      <th>order_hour_of_day</th>\n",
       "      <th>days_since_prior_order</th>\n",
       "      <th>product_id</th>\n",
       "      <th>add_to_cart_order</th>\n",
       "      <th>reordered</th>\n",
       "      <th>product_name</th>\n",
       "      <th>...</th>\n",
       "      <th>frequency_flag</th>\n",
       "      <th>Gender</th>\n",
       "      <th>State</th>\n",
       "      <th>Age</th>\n",
       "      <th>date_joined</th>\n",
       "      <th>n_dependants</th>\n",
       "      <th>Marital Status</th>\n",
       "      <th>income</th>\n",
       "      <th>region</th>\n",
       "      <th>exclusion flag</th>\n",
       "    </tr>\n",
       "  </thead>\n",
       "  <tbody>\n",
       "    <tr>\n",
       "      <th>0</th>\n",
       "      <td>2539329</td>\n",
       "      <td>1</td>\n",
       "      <td>1</td>\n",
       "      <td>2</td>\n",
       "      <td>8</td>\n",
       "      <td>NaN</td>\n",
       "      <td>-60</td>\n",
       "      <td>1.0</td>\n",
       "      <td>0</td>\n",
       "      <td>Soda</td>\n",
       "      <td>...</td>\n",
       "      <td>Non-frequent customer</td>\n",
       "      <td>Female</td>\n",
       "      <td>Alabama</td>\n",
       "      <td>31</td>\n",
       "      <td>2/17/2019</td>\n",
       "      <td>3</td>\n",
       "      <td>married</td>\n",
       "      <td>40423</td>\n",
       "      <td>Southeast</td>\n",
       "      <td>high-activity</td>\n",
       "    </tr>\n",
       "    <tr>\n",
       "      <th>1</th>\n",
       "      <td>2398795</td>\n",
       "      <td>1</td>\n",
       "      <td>2</td>\n",
       "      <td>3</td>\n",
       "      <td>7</td>\n",
       "      <td>15.0</td>\n",
       "      <td>-60</td>\n",
       "      <td>1.0</td>\n",
       "      <td>1</td>\n",
       "      <td>Soda</td>\n",
       "      <td>...</td>\n",
       "      <td>Non-frequent customer</td>\n",
       "      <td>Female</td>\n",
       "      <td>Alabama</td>\n",
       "      <td>31</td>\n",
       "      <td>2/17/2019</td>\n",
       "      <td>3</td>\n",
       "      <td>married</td>\n",
       "      <td>40423</td>\n",
       "      <td>Southeast</td>\n",
       "      <td>high-activity</td>\n",
       "    </tr>\n",
       "    <tr>\n",
       "      <th>2</th>\n",
       "      <td>473747</td>\n",
       "      <td>1</td>\n",
       "      <td>3</td>\n",
       "      <td>3</td>\n",
       "      <td>12</td>\n",
       "      <td>21.0</td>\n",
       "      <td>-60</td>\n",
       "      <td>1.0</td>\n",
       "      <td>1</td>\n",
       "      <td>Soda</td>\n",
       "      <td>...</td>\n",
       "      <td>Non-frequent customer</td>\n",
       "      <td>Female</td>\n",
       "      <td>Alabama</td>\n",
       "      <td>31</td>\n",
       "      <td>2/17/2019</td>\n",
       "      <td>3</td>\n",
       "      <td>married</td>\n",
       "      <td>40423</td>\n",
       "      <td>Southeast</td>\n",
       "      <td>high-activity</td>\n",
       "    </tr>\n",
       "    <tr>\n",
       "      <th>3</th>\n",
       "      <td>2254736</td>\n",
       "      <td>1</td>\n",
       "      <td>4</td>\n",
       "      <td>4</td>\n",
       "      <td>7</td>\n",
       "      <td>29.0</td>\n",
       "      <td>-60</td>\n",
       "      <td>1.0</td>\n",
       "      <td>1</td>\n",
       "      <td>Soda</td>\n",
       "      <td>...</td>\n",
       "      <td>Non-frequent customer</td>\n",
       "      <td>Female</td>\n",
       "      <td>Alabama</td>\n",
       "      <td>31</td>\n",
       "      <td>2/17/2019</td>\n",
       "      <td>3</td>\n",
       "      <td>married</td>\n",
       "      <td>40423</td>\n",
       "      <td>Southeast</td>\n",
       "      <td>high-activity</td>\n",
       "    </tr>\n",
       "    <tr>\n",
       "      <th>4</th>\n",
       "      <td>431534</td>\n",
       "      <td>1</td>\n",
       "      <td>5</td>\n",
       "      <td>4</td>\n",
       "      <td>15</td>\n",
       "      <td>28.0</td>\n",
       "      <td>-60</td>\n",
       "      <td>1.0</td>\n",
       "      <td>1</td>\n",
       "      <td>Soda</td>\n",
       "      <td>...</td>\n",
       "      <td>Non-frequent customer</td>\n",
       "      <td>Female</td>\n",
       "      <td>Alabama</td>\n",
       "      <td>31</td>\n",
       "      <td>2/17/2019</td>\n",
       "      <td>3</td>\n",
       "      <td>married</td>\n",
       "      <td>40423</td>\n",
       "      <td>Southeast</td>\n",
       "      <td>high-activity</td>\n",
       "    </tr>\n",
       "  </tbody>\n",
       "</table>\n",
       "<p>5 rows × 31 columns</p>\n",
       "</div>"
      ],
      "text/plain": [
       "   order_id user_id  order_number  orders_day_of_week  order_hour_of_day  \\\n",
       "0   2539329       1             1                   2                  8   \n",
       "1   2398795       1             2                   3                  7   \n",
       "2    473747       1             3                   3                 12   \n",
       "3   2254736       1             4                   4                  7   \n",
       "4    431534       1             5                   4                 15   \n",
       "\n",
       "   days_since_prior_order  product_id  add_to_cart_order  reordered  \\\n",
       "0                     NaN         -60                1.0          0   \n",
       "1                    15.0         -60                1.0          1   \n",
       "2                    21.0         -60                1.0          1   \n",
       "3                    29.0         -60                1.0          1   \n",
       "4                    28.0         -60                1.0          1   \n",
       "\n",
       "  product_name  ...         frequency_flag  Gender    State Age date_joined  \\\n",
       "0         Soda  ...  Non-frequent customer  Female  Alabama  31   2/17/2019   \n",
       "1         Soda  ...  Non-frequent customer  Female  Alabama  31   2/17/2019   \n",
       "2         Soda  ...  Non-frequent customer  Female  Alabama  31   2/17/2019   \n",
       "3         Soda  ...  Non-frequent customer  Female  Alabama  31   2/17/2019   \n",
       "4         Soda  ...  Non-frequent customer  Female  Alabama  31   2/17/2019   \n",
       "\n",
       "  n_dependants  Marital Status income     region exclusion flag  \n",
       "0            3         married  40423  Southeast  high-activity  \n",
       "1            3         married  40423  Southeast  high-activity  \n",
       "2            3         married  40423  Southeast  high-activity  \n",
       "3            3         married  40423  Southeast  high-activity  \n",
       "4            3         married  40423  Southeast  high-activity  \n",
       "\n",
       "[5 rows x 31 columns]"
      ]
     },
     "execution_count": 30,
     "metadata": {},
     "output_type": "execute_result"
    }
   ],
   "source": [
    "# check datframe\n",
    "df.head()"
   ]
  },
  {
   "cell_type": "code",
   "execution_count": 31,
   "id": "c40052a2",
   "metadata": {},
   "outputs": [],
   "source": [
    "# Dropping low activity from dataframe\n",
    "df_2 = df.drop(df[df.max_order < 5].index)"
   ]
  },
  {
   "cell_type": "code",
   "execution_count": 32,
   "id": "f5af80b1",
   "metadata": {},
   "outputs": [
    {
     "data": {
      "text/plain": [
       "(30965686, 31)"
      ]
     },
     "execution_count": 32,
     "metadata": {},
     "output_type": "execute_result"
    }
   ],
   "source": [
    "# Check dataframe shape after dropping low activity \n",
    "\n",
    "df_2.shape"
   ]
  },
  {
   "cell_type": "code",
   "execution_count": 34,
   "id": "2e999678",
   "metadata": {},
   "outputs": [],
   "source": [
    "# Export data frame excluding less than 5 orders\n",
    "\n",
    "df_2.to_pickle(os.path.join(path, 'Prepared data', 'df_low_activity.pkl'))"
   ]
  },
  {
   "cell_type": "markdown",
   "id": "d534d4d6",
   "metadata": {},
   "source": [
    "### 5. The marketing and business strategy units at Instacart want to create more-relevant marketing strategies for different products and are, thus, curious about customer profiling in their database. Create a profiling variable based on age, income, certain goods in the “department_id” column, and number of dependents. You might also use the “orders_day_of_the_week” and “order_hour_of_day” columns if you can think of a way they would impact customer profiles. "
   ]
  },
  {
   "cell_type": "markdown",
   "id": "728c2fb5",
   "metadata": {},
   "source": [
    "AGE"
   ]
  },
  {
   "cell_type": "code",
   "execution_count": 35,
   "id": "23bea94d",
   "metadata": {},
   "outputs": [
    {
     "data": {
      "text/plain": [
       "count    3.240604e+07\n",
       "mean     4.946525e+01\n",
       "std      1.848557e+01\n",
       "min      1.800000e+01\n",
       "25%      3.300000e+01\n",
       "50%      4.900000e+01\n",
       "75%      6.500000e+01\n",
       "max      8.100000e+01\n",
       "Name: Age, dtype: float64"
      ]
     },
     "execution_count": 35,
     "metadata": {},
     "output_type": "execute_result"
    }
   ],
   "source": [
    "df['Age'].describe()"
   ]
  },
  {
   "cell_type": "markdown",
   "id": "0332bcd2",
   "metadata": {},
   "source": [
    "The minimum age group is 18 and the max age group is 81 with the mean 49. we will made the group with generation gap label:\n",
    "\n",
    "    A) Gen Z: 18-26\n",
    "    B) Millennials: 27-42\n",
    "    C) Gen X: 43-58\n",
    "    D) Boomers II: 59-68\n",
    "    E) Boomers I: 69-77\n",
    "    F) Post War: 78-81"
   ]
  },
  {
   "cell_type": "code",
   "execution_count": 36,
   "id": "fc34f013",
   "metadata": {},
   "outputs": [],
   "source": [
    "# Creating age_flag\n",
    "df.loc[df['Age'] <= 26, 'age_flag'] = 'Gen Z'"
   ]
  },
  {
   "cell_type": "code",
   "execution_count": 37,
   "id": "9587ead5",
   "metadata": {},
   "outputs": [],
   "source": [
    "df.loc[(df['Age'] <= 42) & (df['Age'] >= 27), 'age_flag'] = 'Millennials'"
   ]
  },
  {
   "cell_type": "code",
   "execution_count": 38,
   "id": "b8bcf84c",
   "metadata": {},
   "outputs": [],
   "source": [
    "df.loc[(df['Age'] <= 58) & (df['Age'] >= 43), 'age_flag'] = 'Gen X'"
   ]
  },
  {
   "cell_type": "code",
   "execution_count": 39,
   "id": "bd6e1676",
   "metadata": {},
   "outputs": [],
   "source": [
    "df.loc[(df['Age'] <= 68) & (df['Age'] >= 59), 'age_flag'] = 'Boomers II'"
   ]
  },
  {
   "cell_type": "code",
   "execution_count": 40,
   "id": "81510507",
   "metadata": {},
   "outputs": [],
   "source": [
    "df.loc[(df['Age'] <= 77) & (df['Age'] >= 69), 'age_flag'] = 'Boomers I'"
   ]
  },
  {
   "cell_type": "code",
   "execution_count": 41,
   "id": "df9e5033",
   "metadata": {},
   "outputs": [],
   "source": [
    "df.loc[df['Age'] >= 78, 'age_flag'] = 'Post War'"
   ]
  },
  {
   "cell_type": "code",
   "execution_count": 42,
   "id": "67fad2c1",
   "metadata": {},
   "outputs": [
    {
     "data": {
      "text/plain": [
       "Gen X          8183399\n",
       "Millennials    8094327\n",
       "Boomers II     4976626\n",
       "Gen Z          4558171\n",
       "Boomers I      4543857\n",
       "Post War       2049661\n",
       "Name: age_flag, dtype: int64"
      ]
     },
     "execution_count": 42,
     "metadata": {},
     "output_type": "execute_result"
    }
   ],
   "source": [
    "# Check value counts\n",
    "\n",
    "df['age_flag'].value_counts(dropna = False)"
   ]
  },
  {
   "cell_type": "markdown",
   "id": "06966b1f",
   "metadata": {},
   "source": [
    "INCOME"
   ]
  },
  {
   "cell_type": "code",
   "execution_count": 43,
   "id": "4c4083fc",
   "metadata": {},
   "outputs": [
    {
     "data": {
      "text/plain": [
       "count    3.240604e+07\n",
       "mean     9.943761e+04\n",
       "std      4.305710e+04\n",
       "min      2.590300e+04\n",
       "25%      6.700200e+04\n",
       "50%      9.661700e+04\n",
       "75%      1.279120e+05\n",
       "max      5.939010e+05\n",
       "Name: income, dtype: float64"
      ]
     },
     "execution_count": 43,
     "metadata": {},
     "output_type": "execute_result"
    }
   ],
   "source": [
    "df['income'].describe()"
   ]
  },
  {
   "cell_type": "markdown",
   "id": "0492a28b",
   "metadata": {},
   "source": [
    "The minimum income is 25,900 and the maximum is 593,000. we will alott the following income groups\n",
    "    \n",
    "       A) Low: 32,048 or less\n",
    "       B) Lower_Middle: 32,049 - 53,413\n",
    "       C) Middle_Class: 53,414 - 106,827\n",
    "       D) Upper_Middle_Class: 106,828 - 373,894\n",
    "       E) Wealthy: 373,895 and up"
   ]
  },
  {
   "cell_type": "code",
   "execution_count": 44,
   "id": "175abe0b",
   "metadata": {},
   "outputs": [],
   "source": [
    "# Create income_flag\n",
    "df.loc[df['income'] <= 32048, 'income_flag'] = 'Low Class'"
   ]
  },
  {
   "cell_type": "code",
   "execution_count": 45,
   "id": "9099f878",
   "metadata": {},
   "outputs": [],
   "source": [
    "df.loc[(df['income'] >= 32049) & (df['income'] <= 53413), 'income_flag'] = 'Lower_Middle_Class'"
   ]
  },
  {
   "cell_type": "code",
   "execution_count": 46,
   "id": "50418799",
   "metadata": {},
   "outputs": [],
   "source": [
    "df.loc[(df['income'] >= 53414) & (df['income'] <= 106827), 'income_flag'] = 'Middle_Class'"
   ]
  },
  {
   "cell_type": "code",
   "execution_count": 47,
   "id": "da8a9632",
   "metadata": {},
   "outputs": [],
   "source": [
    "df.loc[(df['income'] >= 106828) & (df['income'] <= 373894 ), 'income_flag'] = 'Upper_Middle_Class'"
   ]
  },
  {
   "cell_type": "code",
   "execution_count": 48,
   "id": "1684fa6e",
   "metadata": {},
   "outputs": [],
   "source": [
    "df.loc[df['income'] >= 373895, 'income_flag'] = 'Wealthy Class'"
   ]
  },
  {
   "cell_type": "code",
   "execution_count": 49,
   "id": "07502c02",
   "metadata": {},
   "outputs": [
    {
     "data": {
      "text/plain": [
       "Middle_Class          15246932\n",
       "Upper_Middle_Class    12811974\n",
       "Lower_Middle_Class     3764367\n",
       "Low Class               523780\n",
       "Wealthy Class            58988\n",
       "Name: income_flag, dtype: int64"
      ]
     },
     "execution_count": 49,
     "metadata": {},
     "output_type": "execute_result"
    }
   ],
   "source": [
    "# Check frequency for income_flag\n",
    "df['income_flag'].value_counts(dropna = False)"
   ]
  },
  {
   "cell_type": "markdown",
   "id": "d592b4f7",
   "metadata": {},
   "source": [
    " DEPARTMENT"
   ]
  },
  {
   "cell_type": "code",
   "execution_count": 50,
   "id": "91814c34",
   "metadata": {},
   "outputs": [
    {
     "data": {
      "text/plain": [
       "4     9479291\n",
       "16    5398747\n",
       "19    2887550\n",
       "7     2688123\n",
       "1     2234743\n",
       "13    1875369\n",
       "3     1172428\n",
       "15    1068058\n",
       "20    1051249\n",
       "9      866627\n",
       "17     738666\n",
       "12     708927\n",
       "14     704111\n",
       "11     447629\n",
       "18     423802\n",
       "6      269253\n",
       "5      153743\n",
       "8       97716\n",
       "21      69145\n",
       "2       36291\n",
       "10      34573\n",
       "Name: department_id, dtype: int64"
      ]
     },
     "execution_count": 50,
     "metadata": {},
     "output_type": "execute_result"
    }
   ],
   "source": [
    "# Check department_id values frequency\n",
    "df['department_id'].value_counts(dropna = False)"
   ]
  },
  {
   "cell_type": "code",
   "execution_count": 51,
   "id": "6de81510",
   "metadata": {},
   "outputs": [],
   "source": [
    "# Import department data\n",
    "df_dept = pd.read_csv(os.path.join(path,'Prepared data', 'departments_wrangled.csv'))"
   ]
  },
  {
   "cell_type": "code",
   "execution_count": 52,
   "id": "0aa31fd8",
   "metadata": {},
   "outputs": [
    {
     "data": {
      "text/html": [
       "<div>\n",
       "<style scoped>\n",
       "    .dataframe tbody tr th:only-of-type {\n",
       "        vertical-align: middle;\n",
       "    }\n",
       "\n",
       "    .dataframe tbody tr th {\n",
       "        vertical-align: top;\n",
       "    }\n",
       "\n",
       "    .dataframe thead th {\n",
       "        text-align: right;\n",
       "    }\n",
       "</style>\n",
       "<table border=\"1\" class=\"dataframe\">\n",
       "  <thead>\n",
       "    <tr style=\"text-align: right;\">\n",
       "      <th></th>\n",
       "      <th>Unnamed: 0</th>\n",
       "      <th>department</th>\n",
       "    </tr>\n",
       "  </thead>\n",
       "  <tbody>\n",
       "    <tr>\n",
       "      <th>0</th>\n",
       "      <td>1</td>\n",
       "      <td>frozen</td>\n",
       "    </tr>\n",
       "    <tr>\n",
       "      <th>1</th>\n",
       "      <td>2</td>\n",
       "      <td>other</td>\n",
       "    </tr>\n",
       "    <tr>\n",
       "      <th>2</th>\n",
       "      <td>3</td>\n",
       "      <td>bakery</td>\n",
       "    </tr>\n",
       "    <tr>\n",
       "      <th>3</th>\n",
       "      <td>4</td>\n",
       "      <td>produce</td>\n",
       "    </tr>\n",
       "    <tr>\n",
       "      <th>4</th>\n",
       "      <td>5</td>\n",
       "      <td>alcohol</td>\n",
       "    </tr>\n",
       "  </tbody>\n",
       "</table>\n",
       "</div>"
      ],
      "text/plain": [
       "   Unnamed: 0 department\n",
       "0           1     frozen\n",
       "1           2      other\n",
       "2           3     bakery\n",
       "3           4    produce\n",
       "4           5    alcohol"
      ]
     },
     "execution_count": 52,
     "metadata": {},
     "output_type": "execute_result"
    }
   ],
   "source": [
    "df_dept.head()"
   ]
  },
  {
   "cell_type": "code",
   "execution_count": 53,
   "id": "3e166ea0",
   "metadata": {},
   "outputs": [],
   "source": [
    "#Rename column Unnamed: 0 to department_id\n",
    "df_dept.rename(columns = {'Unnamed: 0':'department_id'}, inplace = True)"
   ]
  },
  {
   "cell_type": "code",
   "execution_count": 54,
   "id": "dc9d5e54",
   "metadata": {},
   "outputs": [],
   "source": [
    "# Combine data sets on department_id\n",
    "df_merge = df.merge(df_dept, on = 'department_id')"
   ]
  },
  {
   "cell_type": "code",
   "execution_count": 55,
   "id": "82314acf",
   "metadata": {
    "scrolled": false
   },
   "outputs": [
    {
     "data": {
      "text/html": [
       "<div>\n",
       "<style scoped>\n",
       "    .dataframe tbody tr th:only-of-type {\n",
       "        vertical-align: middle;\n",
       "    }\n",
       "\n",
       "    .dataframe tbody tr th {\n",
       "        vertical-align: top;\n",
       "    }\n",
       "\n",
       "    .dataframe thead th {\n",
       "        text-align: right;\n",
       "    }\n",
       "</style>\n",
       "<table border=\"1\" class=\"dataframe\">\n",
       "  <thead>\n",
       "    <tr style=\"text-align: right;\">\n",
       "      <th></th>\n",
       "      <th>order_id</th>\n",
       "      <th>user_id</th>\n",
       "      <th>order_number</th>\n",
       "      <th>orders_day_of_week</th>\n",
       "      <th>order_hour_of_day</th>\n",
       "      <th>days_since_prior_order</th>\n",
       "      <th>product_id</th>\n",
       "      <th>add_to_cart_order</th>\n",
       "      <th>reordered</th>\n",
       "      <th>product_name</th>\n",
       "      <th>...</th>\n",
       "      <th>Age</th>\n",
       "      <th>date_joined</th>\n",
       "      <th>n_dependants</th>\n",
       "      <th>Marital Status</th>\n",
       "      <th>income</th>\n",
       "      <th>region</th>\n",
       "      <th>exclusion flag</th>\n",
       "      <th>age_flag</th>\n",
       "      <th>income_flag</th>\n",
       "      <th>department</th>\n",
       "    </tr>\n",
       "  </thead>\n",
       "  <tbody>\n",
       "    <tr>\n",
       "      <th>0</th>\n",
       "      <td>2539329</td>\n",
       "      <td>1</td>\n",
       "      <td>1</td>\n",
       "      <td>2</td>\n",
       "      <td>8</td>\n",
       "      <td>NaN</td>\n",
       "      <td>-60</td>\n",
       "      <td>1.0</td>\n",
       "      <td>0</td>\n",
       "      <td>Soda</td>\n",
       "      <td>...</td>\n",
       "      <td>31</td>\n",
       "      <td>2/17/2019</td>\n",
       "      <td>3</td>\n",
       "      <td>married</td>\n",
       "      <td>40423</td>\n",
       "      <td>Southeast</td>\n",
       "      <td>high-activity</td>\n",
       "      <td>Millennials</td>\n",
       "      <td>Lower_Middle_Class</td>\n",
       "      <td>beverages</td>\n",
       "    </tr>\n",
       "    <tr>\n",
       "      <th>1</th>\n",
       "      <td>2398795</td>\n",
       "      <td>1</td>\n",
       "      <td>2</td>\n",
       "      <td>3</td>\n",
       "      <td>7</td>\n",
       "      <td>15.0</td>\n",
       "      <td>-60</td>\n",
       "      <td>1.0</td>\n",
       "      <td>1</td>\n",
       "      <td>Soda</td>\n",
       "      <td>...</td>\n",
       "      <td>31</td>\n",
       "      <td>2/17/2019</td>\n",
       "      <td>3</td>\n",
       "      <td>married</td>\n",
       "      <td>40423</td>\n",
       "      <td>Southeast</td>\n",
       "      <td>high-activity</td>\n",
       "      <td>Millennials</td>\n",
       "      <td>Lower_Middle_Class</td>\n",
       "      <td>beverages</td>\n",
       "    </tr>\n",
       "    <tr>\n",
       "      <th>2</th>\n",
       "      <td>473747</td>\n",
       "      <td>1</td>\n",
       "      <td>3</td>\n",
       "      <td>3</td>\n",
       "      <td>12</td>\n",
       "      <td>21.0</td>\n",
       "      <td>-60</td>\n",
       "      <td>1.0</td>\n",
       "      <td>1</td>\n",
       "      <td>Soda</td>\n",
       "      <td>...</td>\n",
       "      <td>31</td>\n",
       "      <td>2/17/2019</td>\n",
       "      <td>3</td>\n",
       "      <td>married</td>\n",
       "      <td>40423</td>\n",
       "      <td>Southeast</td>\n",
       "      <td>high-activity</td>\n",
       "      <td>Millennials</td>\n",
       "      <td>Lower_Middle_Class</td>\n",
       "      <td>beverages</td>\n",
       "    </tr>\n",
       "    <tr>\n",
       "      <th>3</th>\n",
       "      <td>2254736</td>\n",
       "      <td>1</td>\n",
       "      <td>4</td>\n",
       "      <td>4</td>\n",
       "      <td>7</td>\n",
       "      <td>29.0</td>\n",
       "      <td>-60</td>\n",
       "      <td>1.0</td>\n",
       "      <td>1</td>\n",
       "      <td>Soda</td>\n",
       "      <td>...</td>\n",
       "      <td>31</td>\n",
       "      <td>2/17/2019</td>\n",
       "      <td>3</td>\n",
       "      <td>married</td>\n",
       "      <td>40423</td>\n",
       "      <td>Southeast</td>\n",
       "      <td>high-activity</td>\n",
       "      <td>Millennials</td>\n",
       "      <td>Lower_Middle_Class</td>\n",
       "      <td>beverages</td>\n",
       "    </tr>\n",
       "    <tr>\n",
       "      <th>4</th>\n",
       "      <td>431534</td>\n",
       "      <td>1</td>\n",
       "      <td>5</td>\n",
       "      <td>4</td>\n",
       "      <td>15</td>\n",
       "      <td>28.0</td>\n",
       "      <td>-60</td>\n",
       "      <td>1.0</td>\n",
       "      <td>1</td>\n",
       "      <td>Soda</td>\n",
       "      <td>...</td>\n",
       "      <td>31</td>\n",
       "      <td>2/17/2019</td>\n",
       "      <td>3</td>\n",
       "      <td>married</td>\n",
       "      <td>40423</td>\n",
       "      <td>Southeast</td>\n",
       "      <td>high-activity</td>\n",
       "      <td>Millennials</td>\n",
       "      <td>Lower_Middle_Class</td>\n",
       "      <td>beverages</td>\n",
       "    </tr>\n",
       "  </tbody>\n",
       "</table>\n",
       "<p>5 rows × 34 columns</p>\n",
       "</div>"
      ],
      "text/plain": [
       "   order_id user_id  order_number  orders_day_of_week  order_hour_of_day  \\\n",
       "0   2539329       1             1                   2                  8   \n",
       "1   2398795       1             2                   3                  7   \n",
       "2    473747       1             3                   3                 12   \n",
       "3   2254736       1             4                   4                  7   \n",
       "4    431534       1             5                   4                 15   \n",
       "\n",
       "   days_since_prior_order  product_id  add_to_cart_order  reordered  \\\n",
       "0                     NaN         -60                1.0          0   \n",
       "1                    15.0         -60                1.0          1   \n",
       "2                    21.0         -60                1.0          1   \n",
       "3                    29.0         -60                1.0          1   \n",
       "4                    28.0         -60                1.0          1   \n",
       "\n",
       "  product_name  ...  Age  date_joined  n_dependants Marital Status income  \\\n",
       "0         Soda  ...   31    2/17/2019             3        married  40423   \n",
       "1         Soda  ...   31    2/17/2019             3        married  40423   \n",
       "2         Soda  ...   31    2/17/2019             3        married  40423   \n",
       "3         Soda  ...   31    2/17/2019             3        married  40423   \n",
       "4         Soda  ...   31    2/17/2019             3        married  40423   \n",
       "\n",
       "      region  exclusion flag     age_flag         income_flag department  \n",
       "0  Southeast   high-activity  Millennials  Lower_Middle_Class  beverages  \n",
       "1  Southeast   high-activity  Millennials  Lower_Middle_Class  beverages  \n",
       "2  Southeast   high-activity  Millennials  Lower_Middle_Class  beverages  \n",
       "3  Southeast   high-activity  Millennials  Lower_Middle_Class  beverages  \n",
       "4  Southeast   high-activity  Millennials  Lower_Middle_Class  beverages  \n",
       "\n",
       "[5 rows x 34 columns]"
      ]
     },
     "execution_count": 55,
     "metadata": {},
     "output_type": "execute_result"
    }
   ],
   "source": [
    "#checking the dataset\n",
    "df_merge.head()"
   ]
  },
  {
   "cell_type": "code",
   "execution_count": 57,
   "id": "9340a29f",
   "metadata": {},
   "outputs": [],
   "source": [
    "# Exporting data to complete another day\n",
    "\n",
    "df_merge.to_pickle(os.path.join(path, 'Prepared data', 'df_merge.pkl'))"
   ]
  },
  {
   "cell_type": "code",
   "execution_count": 58,
   "id": "0f2fea39",
   "metadata": {},
   "outputs": [],
   "source": [
    "df.to_pickle(os.path.join(path, 'Prepared Data', 'df.pkl'))"
   ]
  },
  {
   "cell_type": "code",
   "execution_count": 59,
   "id": "637e3cd8",
   "metadata": {},
   "outputs": [
    {
     "data": {
      "text/plain": [
       "produce            9479291\n",
       "dairy eggs         5398747\n",
       "snacks             2887550\n",
       "beverages          2688123\n",
       "frozen             2234743\n",
       "pantry             1875369\n",
       "bakery             1172428\n",
       "canned goods       1068058\n",
       "deli               1051249\n",
       "dry goods pasta     866627\n",
       "household           738666\n",
       "meat seafood        708927\n",
       "breakfast           704111\n",
       "personal care       447629\n",
       "babies              423802\n",
       "international       269253\n",
       "alcohol             153743\n",
       "pets                 97716\n",
       "missing              69145\n",
       "other                36291\n",
       "bulk                 34573\n",
       "Name: department, dtype: int64"
      ]
     },
     "execution_count": 59,
     "metadata": {},
     "output_type": "execute_result"
    }
   ],
   "source": [
    "#checking the frequencz\n",
    "df_merge['department'].value_counts(dropna = False)"
   ]
  },
  {
   "cell_type": "code",
   "execution_count": 60,
   "id": "f98757a2",
   "metadata": {},
   "outputs": [],
   "source": [
    "# Create a data dictionary\n",
    "dept = zip(df_merge['department_id'], df_merge['department'])"
   ]
  },
  {
   "cell_type": "code",
   "execution_count": 61,
   "id": "73748234",
   "metadata": {},
   "outputs": [],
   "source": [
    "depts_dict = dict(dept)"
   ]
  },
  {
   "cell_type": "code",
   "execution_count": 62,
   "id": "3c9c8cae",
   "metadata": {},
   "outputs": [
    {
     "data": {
      "text/plain": [
       "{7: 'beverages',\n",
       " 16: 'dairy eggs',\n",
       " 19: 'snacks',\n",
       " 17: 'household',\n",
       " 4: 'produce',\n",
       " 14: 'breakfast',\n",
       " 13: 'pantry',\n",
       " 3: 'bakery',\n",
       " 1: 'frozen',\n",
       " 9: 'dry goods pasta',\n",
       " 15: 'canned goods',\n",
       " 11: 'personal care',\n",
       " 12: 'meat seafood',\n",
       " 20: 'deli',\n",
       " 6: 'international',\n",
       " 5: 'alcohol',\n",
       " 21: 'missing',\n",
       " 8: 'pets',\n",
       " 18: 'babies',\n",
       " 2: 'other',\n",
       " 10: 'bulk'}"
      ]
     },
     "execution_count": 62,
     "metadata": {},
     "output_type": "execute_result"
    }
   ],
   "source": [
    "depts_dict"
   ]
  },
  {
   "cell_type": "markdown",
   "id": "c224903c",
   "metadata": {},
   "source": [
    "Departments are categorized already by section."
   ]
  },
  {
   "cell_type": "code",
   "execution_count": 63,
   "id": "b14cf9bd",
   "metadata": {},
   "outputs": [
    {
     "data": {
      "text/plain": [
       "(32406041, 34)"
      ]
     },
     "execution_count": 63,
     "metadata": {},
     "output_type": "execute_result"
    }
   ],
   "source": [
    "df_merge.shape"
   ]
  },
  {
   "cell_type": "markdown",
   "id": "db434b5a",
   "metadata": {},
   "source": [
    "NUMBER OF DEPENDANTS"
   ]
  },
  {
   "cell_type": "code",
   "execution_count": 64,
   "id": "ddb87742",
   "metadata": {},
   "outputs": [
    {
     "data": {
      "text/plain": [
       "3    8135377\n",
       "0    8097859\n",
       "2    8091396\n",
       "1    8081409\n",
       "Name: n_dependants, dtype: int64"
      ]
     },
     "execution_count": 64,
     "metadata": {},
     "output_type": "execute_result"
    }
   ],
   "source": [
    "#checking the frequency \n",
    "df_merge['n_dependants'].value_counts(dropna = False)"
   ]
  },
  {
   "cell_type": "markdown",
   "id": "0491b169",
   "metadata": {},
   "source": [
    "The dependants range from 0-3 dependants. I will range as follows\n",
    "\n",
    "    A) Single Adult: 0 dependants\n",
    "    B) Family with baby: if their order falls under department of id 18 'babies'\n",
    "    C) Family: 1-3 dependants and if their order does not include id 18 'babies'"
   ]
  },
  {
   "cell_type": "code",
   "execution_count": 65,
   "id": "573e81a3",
   "metadata": {},
   "outputs": [],
   "source": [
    "# Create a flag for family_status\n",
    "\n",
    "df_merge.loc[df_merge['n_dependants'] <= 0, 'family_flag'] = 'single adult'"
   ]
  },
  {
   "cell_type": "code",
   "execution_count": 66,
   "id": "04da46be",
   "metadata": {},
   "outputs": [],
   "source": [
    "df_merge.loc[(df_merge['department_id'] == 18) & (df_merge['n_dependants'] > 0), 'family_flag'] = 'family with baby'"
   ]
  },
  {
   "cell_type": "code",
   "execution_count": 67,
   "id": "ef77079c",
   "metadata": {},
   "outputs": [],
   "source": [
    "df_merge.loc[(df_merge['department_id'] !=18) & (df_merge['n_dependants'] > 0), 'family_flag'] = 'family'"
   ]
  },
  {
   "cell_type": "code",
   "execution_count": 68,
   "id": "28a4f20b",
   "metadata": {},
   "outputs": [
    {
     "data": {
      "text/plain": [
       "family              23990874\n",
       "single adult         8097859\n",
       "family with baby      317308\n",
       "Name: family_flag, dtype: int64"
      ]
     },
     "execution_count": 68,
     "metadata": {},
     "output_type": "execute_result"
    }
   ],
   "source": [
    "df_merge['family_flag'].value_counts(dropna = False)"
   ]
  },
  {
   "cell_type": "code",
   "execution_count": 69,
   "id": "86bf505c",
   "metadata": {},
   "outputs": [
    {
     "data": {
      "text/html": [
       "<div>\n",
       "<style scoped>\n",
       "    .dataframe tbody tr th:only-of-type {\n",
       "        vertical-align: middle;\n",
       "    }\n",
       "\n",
       "    .dataframe tbody tr th {\n",
       "        vertical-align: top;\n",
       "    }\n",
       "\n",
       "    .dataframe thead th {\n",
       "        text-align: right;\n",
       "    }\n",
       "</style>\n",
       "<table border=\"1\" class=\"dataframe\">\n",
       "  <thead>\n",
       "    <tr style=\"text-align: right;\">\n",
       "      <th></th>\n",
       "      <th>order_id</th>\n",
       "      <th>user_id</th>\n",
       "      <th>order_number</th>\n",
       "      <th>orders_day_of_week</th>\n",
       "      <th>order_hour_of_day</th>\n",
       "      <th>days_since_prior_order</th>\n",
       "      <th>product_id</th>\n",
       "      <th>add_to_cart_order</th>\n",
       "      <th>reordered</th>\n",
       "      <th>product_name</th>\n",
       "      <th>...</th>\n",
       "      <th>date_joined</th>\n",
       "      <th>n_dependants</th>\n",
       "      <th>Marital Status</th>\n",
       "      <th>income</th>\n",
       "      <th>region</th>\n",
       "      <th>exclusion flag</th>\n",
       "      <th>age_flag</th>\n",
       "      <th>income_flag</th>\n",
       "      <th>department</th>\n",
       "      <th>family_flag</th>\n",
       "    </tr>\n",
       "  </thead>\n",
       "  <tbody>\n",
       "    <tr>\n",
       "      <th>0</th>\n",
       "      <td>2539329</td>\n",
       "      <td>1</td>\n",
       "      <td>1</td>\n",
       "      <td>2</td>\n",
       "      <td>8</td>\n",
       "      <td>NaN</td>\n",
       "      <td>-60</td>\n",
       "      <td>1.0</td>\n",
       "      <td>0</td>\n",
       "      <td>Soda</td>\n",
       "      <td>...</td>\n",
       "      <td>2/17/2019</td>\n",
       "      <td>3</td>\n",
       "      <td>married</td>\n",
       "      <td>40423</td>\n",
       "      <td>Southeast</td>\n",
       "      <td>high-activity</td>\n",
       "      <td>Millennials</td>\n",
       "      <td>Lower_Middle_Class</td>\n",
       "      <td>beverages</td>\n",
       "      <td>family</td>\n",
       "    </tr>\n",
       "    <tr>\n",
       "      <th>1</th>\n",
       "      <td>2398795</td>\n",
       "      <td>1</td>\n",
       "      <td>2</td>\n",
       "      <td>3</td>\n",
       "      <td>7</td>\n",
       "      <td>15.0</td>\n",
       "      <td>-60</td>\n",
       "      <td>1.0</td>\n",
       "      <td>1</td>\n",
       "      <td>Soda</td>\n",
       "      <td>...</td>\n",
       "      <td>2/17/2019</td>\n",
       "      <td>3</td>\n",
       "      <td>married</td>\n",
       "      <td>40423</td>\n",
       "      <td>Southeast</td>\n",
       "      <td>high-activity</td>\n",
       "      <td>Millennials</td>\n",
       "      <td>Lower_Middle_Class</td>\n",
       "      <td>beverages</td>\n",
       "      <td>family</td>\n",
       "    </tr>\n",
       "    <tr>\n",
       "      <th>2</th>\n",
       "      <td>473747</td>\n",
       "      <td>1</td>\n",
       "      <td>3</td>\n",
       "      <td>3</td>\n",
       "      <td>12</td>\n",
       "      <td>21.0</td>\n",
       "      <td>-60</td>\n",
       "      <td>1.0</td>\n",
       "      <td>1</td>\n",
       "      <td>Soda</td>\n",
       "      <td>...</td>\n",
       "      <td>2/17/2019</td>\n",
       "      <td>3</td>\n",
       "      <td>married</td>\n",
       "      <td>40423</td>\n",
       "      <td>Southeast</td>\n",
       "      <td>high-activity</td>\n",
       "      <td>Millennials</td>\n",
       "      <td>Lower_Middle_Class</td>\n",
       "      <td>beverages</td>\n",
       "      <td>family</td>\n",
       "    </tr>\n",
       "    <tr>\n",
       "      <th>3</th>\n",
       "      <td>2254736</td>\n",
       "      <td>1</td>\n",
       "      <td>4</td>\n",
       "      <td>4</td>\n",
       "      <td>7</td>\n",
       "      <td>29.0</td>\n",
       "      <td>-60</td>\n",
       "      <td>1.0</td>\n",
       "      <td>1</td>\n",
       "      <td>Soda</td>\n",
       "      <td>...</td>\n",
       "      <td>2/17/2019</td>\n",
       "      <td>3</td>\n",
       "      <td>married</td>\n",
       "      <td>40423</td>\n",
       "      <td>Southeast</td>\n",
       "      <td>high-activity</td>\n",
       "      <td>Millennials</td>\n",
       "      <td>Lower_Middle_Class</td>\n",
       "      <td>beverages</td>\n",
       "      <td>family</td>\n",
       "    </tr>\n",
       "    <tr>\n",
       "      <th>4</th>\n",
       "      <td>431534</td>\n",
       "      <td>1</td>\n",
       "      <td>5</td>\n",
       "      <td>4</td>\n",
       "      <td>15</td>\n",
       "      <td>28.0</td>\n",
       "      <td>-60</td>\n",
       "      <td>1.0</td>\n",
       "      <td>1</td>\n",
       "      <td>Soda</td>\n",
       "      <td>...</td>\n",
       "      <td>2/17/2019</td>\n",
       "      <td>3</td>\n",
       "      <td>married</td>\n",
       "      <td>40423</td>\n",
       "      <td>Southeast</td>\n",
       "      <td>high-activity</td>\n",
       "      <td>Millennials</td>\n",
       "      <td>Lower_Middle_Class</td>\n",
       "      <td>beverages</td>\n",
       "      <td>family</td>\n",
       "    </tr>\n",
       "  </tbody>\n",
       "</table>\n",
       "<p>5 rows × 35 columns</p>\n",
       "</div>"
      ],
      "text/plain": [
       "   order_id user_id  order_number  orders_day_of_week  order_hour_of_day  \\\n",
       "0   2539329       1             1                   2                  8   \n",
       "1   2398795       1             2                   3                  7   \n",
       "2    473747       1             3                   3                 12   \n",
       "3   2254736       1             4                   4                  7   \n",
       "4    431534       1             5                   4                 15   \n",
       "\n",
       "   days_since_prior_order  product_id  add_to_cart_order  reordered  \\\n",
       "0                     NaN         -60                1.0          0   \n",
       "1                    15.0         -60                1.0          1   \n",
       "2                    21.0         -60                1.0          1   \n",
       "3                    29.0         -60                1.0          1   \n",
       "4                    28.0         -60                1.0          1   \n",
       "\n",
       "  product_name  ...  date_joined  n_dependants  Marital Status income  \\\n",
       "0         Soda  ...    2/17/2019             3         married  40423   \n",
       "1         Soda  ...    2/17/2019             3         married  40423   \n",
       "2         Soda  ...    2/17/2019             3         married  40423   \n",
       "3         Soda  ...    2/17/2019             3         married  40423   \n",
       "4         Soda  ...    2/17/2019             3         married  40423   \n",
       "\n",
       "      region exclusion flag     age_flag         income_flag  department  \\\n",
       "0  Southeast  high-activity  Millennials  Lower_Middle_Class   beverages   \n",
       "1  Southeast  high-activity  Millennials  Lower_Middle_Class   beverages   \n",
       "2  Southeast  high-activity  Millennials  Lower_Middle_Class   beverages   \n",
       "3  Southeast  high-activity  Millennials  Lower_Middle_Class   beverages   \n",
       "4  Southeast  high-activity  Millennials  Lower_Middle_Class   beverages   \n",
       "\n",
       "  family_flag  \n",
       "0      family  \n",
       "1      family  \n",
       "2      family  \n",
       "3      family  \n",
       "4      family  \n",
       "\n",
       "[5 rows x 35 columns]"
      ]
     },
     "execution_count": 69,
     "metadata": {},
     "output_type": "execute_result"
    }
   ],
   "source": [
    "df_merge.head()"
   ]
  },
  {
   "cell_type": "markdown",
   "id": "821064ba",
   "metadata": {},
   "source": [
    "### 6. Create an appropriate visualization to show the distribution of profiles"
   ]
  },
  {
   "cell_type": "code",
   "execution_count": 70,
   "id": "216c9fa8",
   "metadata": {
    "scrolled": false
   },
   "outputs": [
    {
     "data": {
      "text/plain": [
       "<AxesSubplot:>"
      ]
     },
     "execution_count": 70,
     "metadata": {},
     "output_type": "execute_result"
    },
    {
     "data": {
      "image/png": "[encoded data removed]",
      "text/plain": [
       "<Figure size 640x480 with 1 Axes>"
      ]
     },
     "metadata": {},
     "output_type": "display_data"
    }
   ],
   "source": [
    "# Create bar chart for age_flag \n",
    "df_merge['age_flag'].value_counts().plot.bar()"
   ]
  },
  {
   "cell_type": "markdown",
   "id": "1f36ae9e",
   "metadata": {},
   "source": [
    "Most of the customers are Gen X or Millennials"
   ]
  },
  {
   "cell_type": "code",
   "execution_count": 71,
   "id": "169cde18",
   "metadata": {},
   "outputs": [
    {
     "data": {
      "text/plain": [
       "<AxesSubplot:>"
      ]
     },
     "execution_count": 71,
     "metadata": {},
     "output_type": "execute_result"
    },
    {
     "data": {
      "image/png": "[encoded data removed]",
      "text/plain": [
       "<Figure size 640x480 with 1 Axes>"
      ]
     },
     "metadata": {},
     "output_type": "display_data"
    }
   ],
   "source": [
    "# Create bar chart for income_flag\n",
    "df_merge['income_flag'].value_counts().plot.bar(color = ['blue', 'green', 'orange', 'red'])"
   ]
  },
  {
   "cell_type": "code",
   "execution_count": 72,
   "id": "69cd929e",
   "metadata": {},
   "outputs": [
    {
     "data": {
      "text/plain": [
       "<AxesSubplot:>"
      ]
     },
     "execution_count": 72,
     "metadata": {},
     "output_type": "execute_result"
    },
    {
     "data": {
      "image/png": "[encoded data removed]",
      "text/plain": [
       "<Figure size 640x480 with 1 Axes>"
      ]
     },
     "metadata": {},
     "output_type": "display_data"
    }
   ],
   "source": [
    "# create chart for deparment\n",
    "df_merge['department'].value_counts().plot.bar()"
   ]
  },
  {
   "cell_type": "code",
   "execution_count": 74,
   "id": "4972c961",
   "metadata": {},
   "outputs": [
    {
     "data": {
      "text/plain": [
       "<AxesSubplot:>"
      ]
     },
     "execution_count": 74,
     "metadata": {},
     "output_type": "execute_result"
    },
    {
     "data": {
      "image/png": "[encoded data removed]",
      "text/plain": [
       "<Figure size 640x480 with 1 Axes>"
      ]
     },
     "metadata": {},
     "output_type": "display_data"
    }
   ],
   "source": [
    "df_merge['family_flag'].value_counts().plot.bar(color = ['blue', 'red', 'green'])"
   ]
  },
  {
   "cell_type": "code",
   "execution_count": 39,
   "id": "16f41635",
   "metadata": {},
   "outputs": [],
   "source": [
    "# Exporting data to complete another day\n",
    "\n",
    "df_merge.to_pickle(os.path.join(path, 'Data', 'Prepared Data', 'df_merge.pkl'))\n",
    "df.to_pickle(os.path.join(path, 'Data', 'Prepared Data', 'df.pkl'))"
   ]
  },
  {
   "cell_type": "code",
   "execution_count": null,
   "id": "dd6ee992",
   "metadata": {},
   "outputs": [],
   "source": []
  }
 ],
 "metadata": {
  "kernelspec": {
   "display_name": "Python 3 (ipykernel)",
   "language": "python",
   "name": "python3"
  },
  "language_info": {
   "codemirror_mode": {
    "name": "ipython",
    "version": 3
   },
   "file_extension": ".py",
   "mimetype": "text/x-python",
   "name": "python",
   "nbconvert_exporter": "python",
   "pygments_lexer": "ipython3",
   "version": "3.9.13"
  }
 },
 "nbformat": 4,
 "nbformat_minor": 5
}
